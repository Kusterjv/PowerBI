{
  "nbformat": 4,
  "nbformat_minor": 0,
  "metadata": {
    "colab": {
      "provenance": [],
      "authorship_tag": "ABX9TyOYOL6h5EMKDzw/NgyxrwZN",
      "include_colab_link": true
    },
    "kernelspec": {
      "name": "python3",
      "display_name": "Python 3"
    },
    "language_info": {
      "name": "python"
    }
  },
  "cells": [
    {
      "cell_type": "markdown",
      "metadata": {
        "id": "view-in-github",
        "colab_type": "text"
      },
      "source": [
        "<a href=\"https://colab.research.google.com/github/Kusterjv/PowerBI/blob/main/Cap03_DSA.ipynb\" target=\"_parent\"><img src=\"https://colab.research.google.com/assets/colab-badge.svg\" alt=\"Open In Colab\"/></a>"
      ]
    },
    {
      "cell_type": "markdown",
      "source": [
        "Pseudocódigo 1 - Calcular a Área de um Paralelograma"
      ],
      "metadata": {
        "id": "cwX5vBo6xnMy"
      }
    },
    {
      "cell_type": "code",
      "execution_count": null,
      "metadata": {
        "id": "cR3sxMlVvAJ7"
      },
      "outputs": [],
      "source": [
        "print(\"Seja bem-vindo! Insira os dados a seguir para realizar o cálculo: \")\n",
        "\n",
        "base = float(input(\"Insira a Base para o cálculo: \"))\n",
        "altura = float(input(\"Insira a Altura para o cálculo: \"))\n",
        "\n",
        "resultado = base * altura\n",
        "\n",
        "print(f\"A área do paralelograma é: {resultado}.\")"
      ]
    }
  ]
}